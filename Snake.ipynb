{
 "cells": [
  {
   "cell_type": "code",
   "execution_count": 1,
   "metadata": {},
   "outputs": [
    {
     "name": "stdout",
     "output_type": "stream",
     "text": [
      "pygame 2.1.2 (SDL 2.0.18, Python 3.10.8)\n",
      "Hello from the pygame community. https://www.pygame.org/contribute.html\n"
     ]
    },
    {
     "ename": "IndexError",
     "evalue": "list index out of range",
     "output_type": "error",
     "traceback": [
      "\u001b[1;31m---------------------------------------------------------------------------\u001b[0m",
      "\u001b[1;31mIndexError\u001b[0m                                Traceback (most recent call last)",
      "Cell \u001b[1;32mIn[1], line 101\u001b[0m\n\u001b[0;32m     98\u001b[0m     \u001b[38;5;28;01mreturn\u001b[39;00m\n\u001b[0;32m    100\u001b[0m \u001b[38;5;66;03m#Run Game ----------------------------------------------------------------\u001b[39;00m\n\u001b[1;32m--> 101\u001b[0m \u001b[43muvage\u001b[49m\u001b[38;5;241;43m.\u001b[39;49m\u001b[43mtimer_loop\u001b[49m\u001b[43m(\u001b[49m\u001b[38;5;241;43m30\u001b[39;49m\u001b[43m,\u001b[49m\u001b[43m \u001b[49m\u001b[43mgame\u001b[49m\u001b[43m)\u001b[49m\n",
      "File \u001b[1;32mc:\\Users\\henry\\OneDrive - University of Virginia\\School\\STEM\\CS\\CS1110 - Introduction to Programming\\UVAGE\\uvage.py:569\u001b[0m, in \u001b[0;36mtimer_loop\u001b[1;34m(fps, callback, limit)\u001b[0m\n\u001b[0;32m    567\u001b[0m         frames \u001b[39m+\u001b[39m\u001b[39m=\u001b[39m \u001b[39m1\u001b[39m\n\u001b[0;32m    568\u001b[0m         pygame\u001b[39m.\u001b[39mevent\u001b[39m.\u001b[39mclear(pygame\u001b[39m.\u001b[39mUSEREVENT)\n\u001b[1;32m--> 569\u001b[0m         callback()\n\u001b[0;32m    570\u001b[0m         \u001b[39m# callback(keys)\u001b[39;00m\n\u001b[0;32m    571\u001b[0m pygame\u001b[39m.\u001b[39mtime\u001b[39m.\u001b[39mset_timer(pygame\u001b[39m.\u001b[39mUSEREVENT, \u001b[39m0\u001b[39m)\n",
      "Cell \u001b[1;32mIn[1], line 81\u001b[0m, in \u001b[0;36mgame\u001b[1;34m()\u001b[0m\n\u001b[0;32m     79\u001b[0m \u001b[38;5;28;01mif\u001b[39;00m game_over \u001b[38;5;241m==\u001b[39m \u001b[38;5;28;01mTrue\u001b[39;00m:\n\u001b[0;32m     80\u001b[0m     store_highscore()\n\u001b[1;32m---> 81\u001b[0m     scoreboard_values \u001b[38;5;241m=\u001b[39m \u001b[43mretrieve_highscorelist\u001b[49m\u001b[43m(\u001b[49m\u001b[43m)\u001b[49m\n\u001b[0;32m     82\u001b[0m     create_score_table(scoreboard_values)\n\u001b[0;32m     83\u001b[0m     game_over_screen \u001b[38;5;241m=\u001b[39m \u001b[38;5;28;01mTrue\u001b[39;00m\n",
      "Cell \u001b[1;32mIn[1], line 46\u001b[0m, in \u001b[0;36mretrieve_highscorelist\u001b[1;34m()\u001b[0m\n\u001b[0;32m     42\u001b[0m     highscore\u001b[38;5;241m.\u001b[39mappend(row\u001b[38;5;241m.\u001b[39msplit(\u001b[38;5;124m'\u001b[39m\u001b[38;5;124m,\u001b[39m\u001b[38;5;124m'\u001b[39m))\n\u001b[0;32m     44\u001b[0m highscore_file\u001b[38;5;241m.\u001b[39mclose()\n\u001b[1;32m---> 46\u001b[0m \u001b[38;5;28;01mreturn\u001b[39;00m \u001b[43mhighscore\u001b[49m\u001b[38;5;241;43m.\u001b[39;49m\u001b[43msort\u001b[49m\u001b[43m(\u001b[49m\u001b[43mkey\u001b[49m\u001b[43m \u001b[49m\u001b[38;5;241;43m=\u001b[39;49m\u001b[43m \u001b[49m\u001b[38;5;28;43;01mlambda\u001b[39;49;00m\u001b[43m \u001b[49m\u001b[43mx\u001b[49m\u001b[43m:\u001b[49m\u001b[43m \u001b[49m\u001b[43mx\u001b[49m\u001b[43m[\u001b[49m\u001b[38;5;241;43m1\u001b[39;49m\u001b[43m]\u001b[49m\u001b[43m)\u001b[49m\n",
      "Cell \u001b[1;32mIn[1], line 46\u001b[0m, in \u001b[0;36mretrieve_highscorelist.<locals>.<lambda>\u001b[1;34m(x)\u001b[0m\n\u001b[0;32m     42\u001b[0m     highscore\u001b[38;5;241m.\u001b[39mappend(row\u001b[38;5;241m.\u001b[39msplit(\u001b[38;5;124m'\u001b[39m\u001b[38;5;124m,\u001b[39m\u001b[38;5;124m'\u001b[39m))\n\u001b[0;32m     44\u001b[0m highscore_file\u001b[38;5;241m.\u001b[39mclose()\n\u001b[1;32m---> 46\u001b[0m \u001b[38;5;28;01mreturn\u001b[39;00m highscore\u001b[38;5;241m.\u001b[39msort(key \u001b[38;5;241m=\u001b[39m \u001b[38;5;28;01mlambda\u001b[39;00m x: \u001b[43mx\u001b[49m\u001b[43m[\u001b[49m\u001b[38;5;241;43m1\u001b[39;49m\u001b[43m]\u001b[49m)\n",
      "\u001b[1;31mIndexError\u001b[0m: list index out of range"
     ]
    }
   ],
   "source": [
    "import uvage\n",
    "\n",
    "#GLobal Variables ----------------------------------------------------------------\n",
    "score = 0\n",
    "game_on = False\n",
    "game_over = True\n",
    "game_over_screen = True\n",
    "player_name = 'z'\n",
    "scoreboard_values = []\n",
    "\n",
    "#Set-up Game Objects ----------------------------------------------------------------\n",
    "camera = uvage.Camera(800, 800)\n",
    "scoreboard = uvage.from_color(400, 400, 'white', 400, 400)\n",
    "button = uvage.from_color(600, 600, 'red', 200,200)\n",
    "score_table = []\n",
    "\n",
    "#Inter-Session Progress ----------------------------------------------------------------\n",
    "\n",
    "def store_highscore():\n",
    "\n",
    "    global player_name, score\n",
    "\n",
    "    highscore_file = open('highscore.txt', 'a')\n",
    "    highscore_file.write(player_name + ',' + str(score))\n",
    "    highscore_file.close()\n",
    "\n",
    "    return\n",
    "\n",
    "def clear_highscore():\n",
    "    highscore_file = open('highscore.txt', 'w')\n",
    "    print(file = highscore_file)\n",
    "    highscore_file.close()\n",
    "\n",
    "    return\n",
    "\n",
    "def retrieve_highscorelist():\n",
    "\n",
    "    highscore_file = open('highscore.txt', 'r')\n",
    "    highscore = []\n",
    "    \n",
    "    for row in highscore_file.read().split('\\n'):\n",
    "        highscore.append(row.split(','))\n",
    "\n",
    "    highscore_file.close()\n",
    "    \n",
    "    return highscore.sort(key = lambda x: x[1])\n",
    "\n",
    "def create_score_table(values):\n",
    "    \n",
    "    scoreboard_values = values\n",
    "\n",
    "    rank = 1\n",
    "    entries = 0 \n",
    "\n",
    "    while entries < 10 and entries <= (len(scoreboard_values) - 2):\n",
    "        text = \"{} | Score:{}\".format(scoreboard_values[rank][0], scoreboard_values[rank][1])\n",
    "        entry_diplay = uvage.from_text(scoreboard.x, scoreboard.top - 20 + 40 * rank, text, 40, \"black\")\n",
    "        score_table.append(entry_diplay)\n",
    "        rank += 1\n",
    "        entries += 1\n",
    "\n",
    "    return\n",
    "\n",
    "# Collectibles --------------------------------\n",
    "\n",
    "# Snake --------------------------------\n",
    "\n",
    "# Restart -----------------------------------------\n",
    "\n",
    "def restart_game():\n",
    "    return\n",
    "\n",
    "# Game Code ----------------------------------------------------------------\n",
    "\n",
    "def game():\n",
    "\n",
    "    global game_over, game_on, game_over_screen\n",
    "\n",
    "    if game_over == True:\n",
    "        store_highscore()\n",
    "        scoreboard_values = retrieve_highscorelist()\n",
    "        create_score_table(scoreboard_values)\n",
    "        game_over_screen = True\n",
    "        game_on == False\n",
    "        game_over = False\n",
    "    \n",
    "    if game_over_screen == True:\n",
    "        camera.draw(scoreboard)\n",
    "        for row in score_table:\n",
    "            camera.draw(row)\n",
    "        camera.draw(button)\n",
    "        if button.contains(camera.mouse) and camera.mouseclick == True:\n",
    "            restart_game()\n",
    "            game_on = True\n",
    "            game_over_screen == False\n",
    "\n",
    "    camera.display()\n",
    "    return\n",
    "\n",
    "#Run Game ----------------------------------------------------------------\n",
    "uvage.timer_loop(30, game)"
   ]
  },
  {
   "cell_type": "code",
   "execution_count": null,
   "metadata": {},
   "outputs": [],
   "source": [
    "store_highscore()"
   ]
  }
 ],
 "metadata": {
  "kernelspec": {
   "display_name": "Python 3.10.8 64-bit (windows store)",
   "language": "python",
   "name": "python3"
  },
  "language_info": {
   "codemirror_mode": {
    "name": "ipython",
    "version": 3
   },
   "file_extension": ".py",
   "mimetype": "text/x-python",
   "name": "python",
   "nbconvert_exporter": "python",
   "pygments_lexer": "ipython3",
   "version": "3.10.8"
  },
  "orig_nbformat": 4,
  "vscode": {
   "interpreter": {
    "hash": "3443e16def852afa428d033ab3f589b28e0fe1d4c3c5d7dfcd689f76ed358223"
   }
  }
 },
 "nbformat": 4,
 "nbformat_minor": 2
}
